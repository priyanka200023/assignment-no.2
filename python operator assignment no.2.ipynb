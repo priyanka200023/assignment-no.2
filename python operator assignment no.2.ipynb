{
 "cells": [
  {
   "cell_type": "markdown",
   "id": "f812fdee",
   "metadata": {},
   "source": [
    "# python operator assignment - 2"
   ]
  },
  {
   "cell_type": "raw",
   "id": "d6013cbc",
   "metadata": {},
   "source": [
    "Q. 1  calculate the sum, difference, product,and quotient of two number."
   ]
  },
  {
   "cell_type": "code",
   "execution_count": 15,
   "id": "caa080d7",
   "metadata": {},
   "outputs": [
    {
     "name": "stdout",
     "output_type": "stream",
     "text": [
      "enter the first number:25\n",
      "enter the second number:5\n"
     ]
    }
   ],
   "source": [
    "x =float(input(\"enter the first number:\"))\n",
    "y = float(input(\"enter the second number:\"))\n",
    "sum = x+y\n",
    "difference = x-y\n",
    "product = x*y\n",
    "quotient = x/y"
   ]
  },
  {
   "cell_type": "code",
   "execution_count": 16,
   "id": "b781a5c9",
   "metadata": {},
   "outputs": [
    {
     "data": {
      "text/plain": [
       "30.0"
      ]
     },
     "execution_count": 16,
     "metadata": {},
     "output_type": "execute_result"
    }
   ],
   "source": [
    "sum"
   ]
  },
  {
   "cell_type": "code",
   "execution_count": 17,
   "id": "d96b7e09",
   "metadata": {},
   "outputs": [
    {
     "data": {
      "text/plain": [
       "20.0"
      ]
     },
     "execution_count": 17,
     "metadata": {},
     "output_type": "execute_result"
    }
   ],
   "source": [
    "difference"
   ]
  },
  {
   "cell_type": "code",
   "execution_count": 18,
   "id": "109e08d3",
   "metadata": {},
   "outputs": [
    {
     "data": {
      "text/plain": [
       "125.0"
      ]
     },
     "execution_count": 18,
     "metadata": {},
     "output_type": "execute_result"
    }
   ],
   "source": [
    "product"
   ]
  },
  {
   "cell_type": "code",
   "execution_count": 19,
   "id": "31f4efff",
   "metadata": {},
   "outputs": [
    {
     "data": {
      "text/plain": [
       "5.0"
      ]
     },
     "execution_count": 19,
     "metadata": {},
     "output_type": "execute_result"
    }
   ],
   "source": [
    "quotient"
   ]
  },
  {
   "cell_type": "raw",
   "id": "da385181",
   "metadata": {},
   "source": [
    "Q.2 perform various assignment opertion on a variable"
   ]
  },
  {
   "cell_type": "code",
   "execution_count": 47,
   "id": "ad7b2fe8",
   "metadata": {},
   "outputs": [],
   "source": [
    " # assign operaton (=)\n",
    "x = 10"
   ]
  },
  {
   "cell_type": "code",
   "execution_count": 48,
   "id": "30c08d25",
   "metadata": {},
   "outputs": [
    {
     "data": {
      "text/plain": [
       "10"
      ]
     },
     "execution_count": 48,
     "metadata": {},
     "output_type": "execute_result"
    }
   ],
   "source": [
    "x"
   ]
  },
  {
   "cell_type": "code",
   "execution_count": 49,
   "id": "4dfd9404",
   "metadata": {},
   "outputs": [],
   "source": [
    "#add(+=)\n",
    "x +=5"
   ]
  },
  {
   "cell_type": "code",
   "execution_count": 50,
   "id": "8b1c7339",
   "metadata": {},
   "outputs": [
    {
     "data": {
      "text/plain": [
       "15"
      ]
     },
     "execution_count": 50,
     "metadata": {},
     "output_type": "execute_result"
    }
   ],
   "source": [
    "x"
   ]
  },
  {
   "cell_type": "code",
   "execution_count": 51,
   "id": "4fd2d9ba",
   "metadata": {},
   "outputs": [],
   "source": [
    "#subtraction (-=)\n",
    "x = 10\n",
    "x-=5"
   ]
  },
  {
   "cell_type": "code",
   "execution_count": 52,
   "id": "ae345501",
   "metadata": {},
   "outputs": [
    {
     "data": {
      "text/plain": [
       "5"
      ]
     },
     "execution_count": 52,
     "metadata": {},
     "output_type": "execute_result"
    }
   ],
   "source": [
    "x"
   ]
  },
  {
   "cell_type": "code",
   "execution_count": 53,
   "id": "c705fc56",
   "metadata": {},
   "outputs": [],
   "source": [
    "# multiplication(*=)\n",
    "x = 10\n",
    "x*=5"
   ]
  },
  {
   "cell_type": "code",
   "execution_count": 54,
   "id": "1a2dde14",
   "metadata": {},
   "outputs": [
    {
     "data": {
      "text/plain": [
       "50"
      ]
     },
     "execution_count": 54,
     "metadata": {},
     "output_type": "execute_result"
    }
   ],
   "source": [
    "x"
   ]
  },
  {
   "cell_type": "code",
   "execution_count": 55,
   "id": "716c9656",
   "metadata": {},
   "outputs": [],
   "source": [
    "# divide(/=)\n",
    "x = 10\n",
    "x/=5"
   ]
  },
  {
   "cell_type": "code",
   "execution_count": 56,
   "id": "8a1d3ebe",
   "metadata": {},
   "outputs": [
    {
     "data": {
      "text/plain": [
       "2.0"
      ]
     },
     "execution_count": 56,
     "metadata": {},
     "output_type": "execute_result"
    }
   ],
   "source": [
    "x"
   ]
  },
  {
   "cell_type": "code",
   "execution_count": 57,
   "id": "c94a98b5",
   "metadata": {},
   "outputs": [],
   "source": [
    "#modulus(%=)\n",
    "x = 10\n",
    "x%=5"
   ]
  },
  {
   "cell_type": "code",
   "execution_count": 58,
   "id": "f5be82ec",
   "metadata": {},
   "outputs": [
    {
     "data": {
      "text/plain": [
       "0"
      ]
     },
     "execution_count": 58,
     "metadata": {},
     "output_type": "execute_result"
    }
   ],
   "source": [
    "x"
   ]
  },
  {
   "cell_type": "code",
   "execution_count": 59,
   "id": "f0788321",
   "metadata": {},
   "outputs": [],
   "source": [
    "# floor division(//=)\n",
    "x=10\n",
    "x//=5"
   ]
  },
  {
   "cell_type": "code",
   "execution_count": 60,
   "id": "686ce743",
   "metadata": {},
   "outputs": [
    {
     "data": {
      "text/plain": [
       "2"
      ]
     },
     "execution_count": 60,
     "metadata": {},
     "output_type": "execute_result"
    }
   ],
   "source": [
    "x"
   ]
  },
  {
   "cell_type": "code",
   "execution_count": 61,
   "id": "4728fc1d",
   "metadata": {},
   "outputs": [],
   "source": [
    "#exponentiation(**=)\n",
    "x = 10\n",
    "x**=5"
   ]
  },
  {
   "cell_type": "code",
   "execution_count": 62,
   "id": "f8748b78",
   "metadata": {},
   "outputs": [
    {
     "data": {
      "text/plain": [
       "100000"
      ]
     },
     "execution_count": 62,
     "metadata": {},
     "output_type": "execute_result"
    }
   ],
   "source": [
    "x"
   ]
  },
  {
   "cell_type": "code",
   "execution_count": 63,
   "id": "f8abecc3",
   "metadata": {},
   "outputs": [],
   "source": [
    "#bitwise and (&=)\n",
    "x = 10\n",
    "x&=5"
   ]
  },
  {
   "cell_type": "code",
   "execution_count": 64,
   "id": "12268d81",
   "metadata": {},
   "outputs": [
    {
     "data": {
      "text/plain": [
       "0"
      ]
     },
     "execution_count": 64,
     "metadata": {},
     "output_type": "execute_result"
    }
   ],
   "source": [
    "x"
   ]
  },
  {
   "cell_type": "code",
   "execution_count": 66,
   "id": "98995cf5",
   "metadata": {},
   "outputs": [],
   "source": [
    "#bitwies or (|=)\n",
    "x = 10\n",
    "x|=5"
   ]
  },
  {
   "cell_type": "code",
   "execution_count": 67,
   "id": "77249688",
   "metadata": {},
   "outputs": [
    {
     "data": {
      "text/plain": [
       "15"
      ]
     },
     "execution_count": 67,
     "metadata": {},
     "output_type": "execute_result"
    }
   ],
   "source": [
    "x"
   ]
  },
  {
   "cell_type": "code",
   "execution_count": 68,
   "id": "e774aa8c",
   "metadata": {},
   "outputs": [],
   "source": [
    "#bitwise xor (^=)\n",
    "x =10\n",
    "x^=5"
   ]
  },
  {
   "cell_type": "code",
   "execution_count": 69,
   "id": "3ecbb9ec",
   "metadata": {},
   "outputs": [
    {
     "data": {
      "text/plain": [
       "15"
      ]
     },
     "execution_count": 69,
     "metadata": {},
     "output_type": "execute_result"
    }
   ],
   "source": [
    "x"
   ]
  },
  {
   "cell_type": "code",
   "execution_count": 70,
   "id": "c16a49c5",
   "metadata": {},
   "outputs": [],
   "source": [
    "#bit. left shift (<<=)\n",
    "x = 10\n",
    "x<<=5"
   ]
  },
  {
   "cell_type": "code",
   "execution_count": 71,
   "id": "006947df",
   "metadata": {},
   "outputs": [
    {
     "data": {
      "text/plain": [
       "320"
      ]
     },
     "execution_count": 71,
     "metadata": {},
     "output_type": "execute_result"
    }
   ],
   "source": [
    "x"
   ]
  },
  {
   "cell_type": "code",
   "execution_count": 72,
   "id": "c599d5a0",
   "metadata": {},
   "outputs": [],
   "source": [
    "#bit.right shift(>>=)\n",
    "x = 10\n",
    "x>>=5"
   ]
  },
  {
   "cell_type": "code",
   "execution_count": 73,
   "id": "09e3221c",
   "metadata": {},
   "outputs": [
    {
     "data": {
      "text/plain": [
       "0"
      ]
     },
     "execution_count": 73,
     "metadata": {},
     "output_type": "execute_result"
    }
   ],
   "source": [
    "x"
   ]
  },
  {
   "cell_type": "raw",
   "id": "1d96efc7",
   "metadata": {},
   "source": [
    "Q.3 check condition using logical operators"
   ]
  },
  {
   "cell_type": "code",
   "execution_count": 74,
   "id": "0be62548",
   "metadata": {},
   "outputs": [
    {
     "name": "stdout",
     "output_type": "stream",
     "text": [
      "enter a number:10\n",
      "the number is in the range\n"
     ]
    }
   ],
   "source": [
    "num = int(input(\"enter a number:\"))    #check if number is between 1 and 10\n",
    "if num >0 and num<11:\n",
    "    print(\"the number is in the range\")\n",
    "else:\n",
    "    print(\"the number is out of range\")"
   ]
  },
  {
   "cell_type": "code",
   "execution_count": 75,
   "id": "3bea52e9",
   "metadata": {},
   "outputs": [
    {
     "name": "stdout",
     "output_type": "stream",
     "text": [
      "enter a number:21\n",
      "the number is out of range\n"
     ]
    }
   ],
   "source": [
    "num = int(input(\"enter a number:\"))    #check if number is between 1 and 10\n",
    "if num >0 and num<11:\n",
    "    print(\"the number is in the range\")\n",
    "else:\n",
    "    print(\"the number is out of range\")"
   ]
  },
  {
   "cell_type": "raw",
   "id": "95a69202",
   "metadata": {},
   "source": [
    "Q.4 compare two number and print the results"
   ]
  },
  {
   "cell_type": "code",
   "execution_count": 76,
   "id": "321550a5",
   "metadata": {},
   "outputs": [
    {
     "name": "stdout",
     "output_type": "stream",
     "text": [
      "enter the first number:34\n",
      "enter the second number:50\n",
      "34.0 is less than 50.0\n"
     ]
    }
   ],
   "source": [
    "num1 = float(input(\"enter the first number:\"))\n",
    "num2 = float(input(\"enter the second number:\"))\n",
    "if num1 >num2:\n",
    "    print(num1,\"is greter than\",num2)\n",
    "elif num1<num2:\n",
    "    print(num1,\"is less than\",num2)\n",
    "else:\n",
    "    print(num1,\"is equal to\",num2)"
   ]
  },
  {
   "cell_type": "code",
   "execution_count": 77,
   "id": "b4f03cde",
   "metadata": {},
   "outputs": [
    {
     "name": "stdout",
     "output_type": "stream",
     "text": [
      "enter the first number:10\n",
      "enter the second number:6\n",
      "10.0 is greter than 6.0\n"
     ]
    }
   ],
   "source": [
    "num1 = float(input(\"enter the first number:\"))\n",
    "num2 = float(input(\"enter the second number:\"))\n",
    "if num1 >num2:\n",
    "    print(num1,\"is greter than\",num2)\n",
    "elif num1<num2:\n",
    "    print(num1,\"is less than\",num2)\n",
    "else:\n",
    "    print(num1,\"is equal to\",num2)"
   ]
  },
  {
   "cell_type": "code",
   "execution_count": 78,
   "id": "c01b877a",
   "metadata": {},
   "outputs": [
    {
     "name": "stdout",
     "output_type": "stream",
     "text": [
      "enter the first number:55\n",
      "enter the second number:55\n",
      "55.0 is equal to 55.0\n"
     ]
    }
   ],
   "source": [
    "num1 = float(input(\"enter the first number:\"))\n",
    "num2 = float(input(\"enter the second number:\"))\n",
    "if num1 >num2:\n",
    "    print(num1,\"is greter than\",num2)\n",
    "elif num1<num2:\n",
    "    print(num1,\"is less than\",num2)\n",
    "else:\n",
    "    print(num1,\"is equal to\",num2)"
   ]
  },
  {
   "cell_type": "raw",
   "id": "07ec9e7c",
   "metadata": {},
   "source": [
    "Q.5 check identity of variables"
   ]
  },
  {
   "cell_type": "code",
   "execution_count": 80,
   "id": "458475ae",
   "metadata": {},
   "outputs": [],
   "source": [
    "x = 10\n",
    "y = x"
   ]
  },
  {
   "cell_type": "code",
   "execution_count": 81,
   "id": "349141af",
   "metadata": {},
   "outputs": [
    {
     "name": "stdout",
     "output_type": "stream",
     "text": [
      "140709306537032\n"
     ]
    }
   ],
   "source": [
    "print(id(x))"
   ]
  },
  {
   "cell_type": "code",
   "execution_count": 82,
   "id": "be737e83",
   "metadata": {},
   "outputs": [
    {
     "name": "stdout",
     "output_type": "stream",
     "text": [
      "140709306537032\n"
     ]
    }
   ],
   "source": [
    "print(id(y))"
   ]
  },
  {
   "cell_type": "code",
   "execution_count": 84,
   "id": "663841fa",
   "metadata": {},
   "outputs": [
    {
     "name": "stdout",
     "output_type": "stream",
     "text": [
      "True\n",
      "False\n"
     ]
    }
   ],
   "source": [
    "#ex.2 \n",
    "x = 10\n",
    "y = x\n",
    "print(x is y)\n",
    "print(x is not y )"
   ]
  },
  {
   "cell_type": "code",
   "execution_count": 85,
   "id": "73990e80",
   "metadata": {},
   "outputs": [
    {
     "name": "stdout",
     "output_type": "stream",
     "text": [
      "True\n",
      "True\n"
     ]
    }
   ],
   "source": [
    "# ex.3\n",
    "x = 10\n",
    "y = 10\n",
    "print(x is y)\n",
    "print(x==y)"
   ]
  },
  {
   "cell_type": "raw",
   "id": "a15454a0",
   "metadata": {},
   "source": [
    "Q.6 perform bitwise operation on any two integer"
   ]
  },
  {
   "cell_type": "code",
   "execution_count": 86,
   "id": "0df512e2",
   "metadata": {},
   "outputs": [
    {
     "name": "stdout",
     "output_type": "stream",
     "text": [
      "0\n"
     ]
    }
   ],
   "source": [
    "x = 10      #1010 in binary\n",
    "y = 4       #0100 in binary\n",
    "z = x&y\n",
    "print(z)"
   ]
  },
  {
   "cell_type": "raw",
   "id": "8ffbab3c",
   "metadata": {},
   "source": [
    " Q.7 use unary operators to chaange the single of a number."
   ]
  },
  {
   "cell_type": "code",
   "execution_count": 87,
   "id": "6b526ec9",
   "metadata": {},
   "outputs": [
    {
     "name": "stdout",
     "output_type": "stream",
     "text": [
      "-10\n"
     ]
    }
   ],
   "source": [
    "x = 10    #positive number\n",
    "y = -x   #negative number\n",
    "print(y)"
   ]
  },
  {
   "cell_type": "code",
   "execution_count": 88,
   "id": "41a48041",
   "metadata": {},
   "outputs": [
    {
     "name": "stdout",
     "output_type": "stream",
     "text": [
      "-10\n"
     ]
    }
   ],
   "source": [
    "x = -10   #negative number\n",
    "y = +x     # same as x\n",
    "print(y)"
   ]
  },
  {
   "cell_type": "raw",
   "id": "a9579979",
   "metadata": {},
   "source": [
    "Q.8 use the ternary operator to assign value on conditions"
   ]
  },
  {
   "cell_type": "code",
   "execution_count": 95,
   "id": "86b12a91",
   "metadata": {},
   "outputs": [
    {
     "name": "stdout",
     "output_type": "stream",
     "text": [
      "-10\n"
     ]
    }
   ],
   "source": [
    "# if_else statement in one line\n",
    "#variable = value_if_true if condition , else value_if_false\n",
    "\n",
    "x = 10 if y >0 else-10\n",
    "print(x)"
   ]
  },
  {
   "cell_type": "code",
   "execution_count": null,
   "id": "8c2005c9",
   "metadata": {},
   "outputs": [],
   "source": []
  }
 ],
 "metadata": {
  "kernelspec": {
   "display_name": "Python 3 (ipykernel)",
   "language": "python",
   "name": "python3"
  },
  "language_info": {
   "codemirror_mode": {
    "name": "ipython",
    "version": 3
   },
   "file_extension": ".py",
   "mimetype": "text/x-python",
   "name": "python",
   "nbconvert_exporter": "python",
   "pygments_lexer": "ipython3",
   "version": "3.11.5"
  }
 },
 "nbformat": 4,
 "nbformat_minor": 5
}
